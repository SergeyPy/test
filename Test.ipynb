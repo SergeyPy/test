{
 "cells": [
  {
   "cell_type": "code",
   "execution_count": 1,
   "metadata": {
    "ExecuteTime": {
     "end_time": "2020-05-22T10:01:46.073546Z",
     "start_time": "2020-05-22T10:01:45.182301Z"
    }
   },
   "outputs": [],
   "source": [
    "import pandas as pd"
   ]
  },
  {
   "cell_type": "code",
   "execution_count": 2,
   "metadata": {
    "ExecuteTime": {
     "end_time": "2020-05-22T10:02:40.139886Z",
     "start_time": "2020-05-22T10:02:18.337417Z"
    }
   },
   "outputs": [],
   "source": [
    "october = pd.read_csv('logs_mp_october_test_task.csv')"
   ]
  },
  {
   "cell_type": "code",
   "execution_count": 12,
   "metadata": {
    "ExecuteTime": {
     "end_time": "2020-05-22T10:06:06.845433Z",
     "start_time": "2020-05-22T10:06:06.837963Z"
    }
   },
   "outputs": [
    {
     "data": {
      "text/plain": [
       "(20528834, 5)"
      ]
     },
     "execution_count": 12,
     "metadata": {},
     "output_type": "execute_result"
    }
   ],
   "source": [
    "october.shape"
   ]
  },
  {
   "cell_type": "code",
   "execution_count": 3,
   "metadata": {
    "ExecuteTime": {
     "end_time": "2020-05-22T10:02:40.189383Z",
     "start_time": "2020-05-22T10:02:40.164675Z"
    }
   },
   "outputs": [
    {
     "data": {
      "text/html": [
       "<div>\n",
       "<style scoped>\n",
       "    .dataframe tbody tr th:only-of-type {\n",
       "        vertical-align: middle;\n",
       "    }\n",
       "\n",
       "    .dataframe tbody tr th {\n",
       "        vertical-align: top;\n",
       "    }\n",
       "\n",
       "    .dataframe thead th {\n",
       "        text-align: right;\n",
       "    }\n",
       "</style>\n",
       "<table border=\"1\" class=\"dataframe\">\n",
       "  <thead>\n",
       "    <tr style=\"text-align: right;\">\n",
       "      <th></th>\n",
       "      <th>Unnamed: 0</th>\n",
       "      <th>user_id</th>\n",
       "      <th>device_id</th>\n",
       "      <th>event_date</th>\n",
       "      <th>track_id</th>\n",
       "    </tr>\n",
       "  </thead>\n",
       "  <tbody>\n",
       "    <tr>\n",
       "      <th>0</th>\n",
       "      <td>0</td>\n",
       "      <td>301766</td>\n",
       "      <td>555a04204e85a34b</td>\n",
       "      <td>2019-10-31 04:24:36</td>\n",
       "      <td>10</td>\n",
       "    </tr>\n",
       "    <tr>\n",
       "      <th>1</th>\n",
       "      <td>1</td>\n",
       "      <td>7599993</td>\n",
       "      <td>341a3dd038c9f962</td>\n",
       "      <td>2019-10-31 04:24:50</td>\n",
       "      <td>10</td>\n",
       "    </tr>\n",
       "    <tr>\n",
       "      <th>2</th>\n",
       "      <td>2</td>\n",
       "      <td>26828853</td>\n",
       "      <td>463BAFCE-3E8B-499A-8B93-1AD693CC5749</td>\n",
       "      <td>2019-10-31 04:24:54</td>\n",
       "      <td>10</td>\n",
       "    </tr>\n",
       "    <tr>\n",
       "      <th>3</th>\n",
       "      <td>3</td>\n",
       "      <td>301766</td>\n",
       "      <td>555a04204e85a34b</td>\n",
       "      <td>2019-10-31 04:25:05</td>\n",
       "      <td>10</td>\n",
       "    </tr>\n",
       "    <tr>\n",
       "      <th>4</th>\n",
       "      <td>4</td>\n",
       "      <td>20736809</td>\n",
       "      <td>21c2843aeef5931d</td>\n",
       "      <td>2019-10-31 04:25:07</td>\n",
       "      <td>10</td>\n",
       "    </tr>\n",
       "  </tbody>\n",
       "</table>\n",
       "</div>"
      ],
      "text/plain": [
       "   Unnamed: 0   user_id                             device_id  \\\n",
       "0           0    301766                      555a04204e85a34b   \n",
       "1           1   7599993                      341a3dd038c9f962   \n",
       "2           2  26828853  463BAFCE-3E8B-499A-8B93-1AD693CC5749   \n",
       "3           3    301766                      555a04204e85a34b   \n",
       "4           4  20736809                      21c2843aeef5931d   \n",
       "\n",
       "            event_date  track_id  \n",
       "0  2019-10-31 04:24:36        10  \n",
       "1  2019-10-31 04:24:50        10  \n",
       "2  2019-10-31 04:24:54        10  \n",
       "3  2019-10-31 04:25:05        10  \n",
       "4  2019-10-31 04:25:07        10  "
      ]
     },
     "execution_count": 3,
     "metadata": {},
     "output_type": "execute_result"
    }
   ],
   "source": [
    "october.head()"
   ]
  },
  {
   "cell_type": "code",
   "execution_count": 24,
   "metadata": {
    "ExecuteTime": {
     "end_time": "2020-05-22T10:15:03.267897Z",
     "start_time": "2020-05-22T10:15:02.309794Z"
    }
   },
   "outputs": [
    {
     "data": {
      "text/plain": [
       "1      1596700\n",
       "2      1333464\n",
       "10     1294088\n",
       "135    1126620\n",
       "9      1067211\n",
       "Name: track_id, dtype: int64"
      ]
     },
     "execution_count": 24,
     "metadata": {},
     "output_type": "execute_result"
    }
   ],
   "source": [
    "#самый популярный экран\n",
    "october[october['track_id'] != 4]['track_id'].value_counts().head()"
   ]
  },
  {
   "cell_type": "code",
   "execution_count": 18,
   "metadata": {
    "ExecuteTime": {
     "end_time": "2020-05-22T10:09:17.159628Z",
     "start_time": "2020-05-22T10:09:17.029683Z"
    }
   },
   "outputs": [
    {
     "data": {
      "text/plain": [
       "129028"
      ]
     },
     "execution_count": 18,
     "metadata": {},
     "output_type": "execute_result"
    }
   ],
   "source": [
    "#сколько пользователей посетили самый поплярный экран\n",
    "len(october[october['track_id'] == 1]['user_id'].unique())"
   ]
  },
  {
   "cell_type": "code",
   "execution_count": 22,
   "metadata": {
    "ExecuteTime": {
     "end_time": "2020-05-22T10:13:38.912155Z",
     "start_time": "2020-05-22T10:13:38.543142Z"
    }
   },
   "outputs": [
    {
     "data": {
      "text/plain": [
       "0.15031065588686407"
      ]
     },
     "execution_count": 22,
     "metadata": {},
     "output_type": "execute_result"
    }
   ],
   "source": [
    "#доля пользователей зашедших на экран технической поддержки\n",
    "len(october[october['track_id'] == 20]['user_id'].unique())/len(october['user_id'].unique())"
   ]
  }
 ],
 "metadata": {
  "kernelspec": {
   "display_name": "Python 3",
   "language": "python",
   "name": "python3"
  },
  "language_info": {
   "codemirror_mode": {
    "name": "ipython",
    "version": 3
   },
   "file_extension": ".py",
   "mimetype": "text/x-python",
   "name": "python",
   "nbconvert_exporter": "python",
   "pygments_lexer": "ipython3",
   "version": "3.7.7"
  },
  "toc": {
   "base_numbering": 1,
   "nav_menu": {},
   "number_sections": true,
   "sideBar": true,
   "skip_h1_title": false,
   "title_cell": "Table of Contents",
   "title_sidebar": "Contents",
   "toc_cell": false,
   "toc_position": {},
   "toc_section_display": true,
   "toc_window_display": false
  },
  "varInspector": {
   "cols": {
    "lenName": 16,
    "lenType": 16,
    "lenVar": 40
   },
   "kernels_config": {
    "python": {
     "delete_cmd_postfix": "",
     "delete_cmd_prefix": "del ",
     "library": "var_list.py",
     "varRefreshCmd": "print(var_dic_list())"
    },
    "r": {
     "delete_cmd_postfix": ") ",
     "delete_cmd_prefix": "rm(",
     "library": "var_list.r",
     "varRefreshCmd": "cat(var_dic_list()) "
    }
   },
   "types_to_exclude": [
    "module",
    "function",
    "builtin_function_or_method",
    "instance",
    "_Feature"
   ],
   "window_display": false
  }
 },
 "nbformat": 4,
 "nbformat_minor": 4
}
